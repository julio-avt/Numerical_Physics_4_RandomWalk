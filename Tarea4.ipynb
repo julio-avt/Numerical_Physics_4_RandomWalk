{
 "cells": [
  {
   "cell_type": "markdown",
   "id": "a13c13e4",
   "metadata": {},
   "source": [
    "# Física Numérica\n",
    "## Tarea 4"
   ]
  },
  {
   "cell_type": "markdown",
   "id": "fc41e442",
   "metadata": {},
   "source": [
    "1. **Estudiando una caminata aleatoria en 2D**\n",
    "\n",
    "(a) Escriba un programa que genere una caminata aleatoria en 2D. Para asegurar la aleatoriedad, elija valores aleatorios independientes para $\\Delta x'$ y $\\Delta y'$ en el rango $[-1,1]$, después normaliza para cada que cada paso sea unitario:\n",
    "\n",
    "$$\\Delta x = \\frac{1}{L} \\Delta x', \\quad \\Delta y = \\frac{1}{L} \\Delta y',\\quad L = \\sqrt{ \\Delta x'^2 + \\Delta y'^2} \\tag{1}$$"
   ]
  },
  {
   "cell_type": "markdown",
   "id": "60f99b21",
   "metadata": {},
   "source": [
    "*Solución.*  \n",
    "Para generar los números aleatorios uniformemente distribuidos en el intervalo [-1,1] nos apoyaremos de la siguiente librería:"
   ]
  },
  {
   "cell_type": "code",
   "execution_count": 44,
   "id": "2d8c289b",
   "metadata": {},
   "outputs": [],
   "source": [
    "import numpy as np"
   ]
  },
  {
   "cell_type": "markdown",
   "id": "3ed59cee",
   "metadata": {},
   "source": [
    "Para este inciso crearemos una función llamada `pasos_normalizados`. Esta función tendrá como parámetro un entero $n$ que será el número de pasos a realizar. Dentro de la función se crearan dos arreglos de $n$ números aleatorios en el intervalo [-1,1]. Después de esto, a través de un ciclo `for` se usará (1) para normalizar cada valor de ambos arreglos de forma que cada pareja $(\\Delta x_i, \\Delta y_i)$, con $i=1,2,...,n$, esté normalizada. Finalmente la función regresa los arreglos que contienen los $n$ pasos normalizados. "
   ]
  },
  {
   "cell_type": "code",
   "execution_count": 45,
   "id": "2f2f563b",
   "metadata": {},
   "outputs": [],
   "source": [
    "def pasos_normalizados(n: int):\n",
    "    \"\"\"Esta función genera dos arreglos cuyos elementos son los n pasos \n",
    "    normalizados generados aleatoriamente en el intervalo [-1,1]\"\"\"\n",
    "    \n",
    "    x = np.random.uniform(-1,1,n) #genera un arreglo independiente con n elementos para los pasos en x\n",
    "    y = np.random.uniform(-1,1,n) #genera un arreglo independiente con n elementos para los pasos en y\n",
    "    \n",
    "    for i in range(n):\n",
    "        L = np.sqrt( x[i]**2 + y[i]**2 )\n",
    "        x[i] = x[i]/L\n",
    "        y[i] = y[i]/L\n",
    "    \n",
    "    return x, y"
   ]
  },
  {
   "cell_type": "markdown",
   "id": "7d6cdc83",
   "metadata": {},
   "source": [
    "Pongamos a prueba la función anterior. Para ello tomaremos $n=5$ (cinco pasos) e imprimiremos el valor de $\\sqrt{ \\Delta x_i^2 + \\Delta y_i^2}$ para cada pareja $(\\Delta x_i, \\Delta y_i)$ y corroborar que estén normalizados."
   ]
  },
  {
   "cell_type": "code",
   "execution_count": 46,
   "id": "ba009ae8",
   "metadata": {},
   "outputs": [
    {
     "name": "stdout",
     "output_type": "stream",
     "text": [
      "0.9999999999999998\n",
      "0.9999999999999999\n",
      "0.9999999999999999\n",
      "0.9999999999999997\n",
      "0.9999999999999998\n"
     ]
    }
   ],
   "source": [
    "n = 5\n",
    "x,y = pasos_normalizados(n)\n",
    "for i in range(n):\n",
    "    print(x[i]**2 + y[i]**2)\n",
    "    \n"
   ]
  },
  {
   "cell_type": "markdown",
   "id": "9fc226f7",
   "metadata": {},
   "source": [
    "Para cada caso se obtiene un valor muy cercano a 1, las pequeñas diferencias se deben al error de cálculo de la computadora. Por lo que podemos considerar que la función realiza lo que se solicitó en este inciso."
   ]
  },
  {
   "cell_type": "markdown",
   "id": "865c7f8e",
   "metadata": {},
   "source": [
    "(b) Si su caminante virtual da N pasos en cada experimento, entonces\n",
    "realice un total de $K \\approx \\sqrt{N}$ experimentos. Cada experimento\n",
    "debe tener $N$ pasos e iniciar con una semilla diferente."
   ]
  },
  {
   "cell_type": "markdown",
   "id": "c0c20d89",
   "metadata": {},
   "source": [
    "*Solución.*  \n",
    "Para este inciso basta usar un ciclo `for` que itere $K \\approx \\sqrt{N}$ veces ($N$ es el número de pasos), y para asegurar que cada experimento inicia con una semilla diferente, en cada iteración debe llamarse a la función `pasos_normalizados` para generar distintos valores independientes. "
   ]
  },
  {
   "cell_type": "code",
   "execution_count": 47,
   "id": "31087423",
   "metadata": {},
   "outputs": [],
   "source": [
    "N = 100 #Número de pasos\n",
    "K = int(np.sqrt(N)) #Número de experimentos\n",
    "\n",
    "for i in range(K):\n",
    "    x, y =  pasos_normalizados(N)"
   ]
  },
  {
   "cell_type": "markdown",
   "id": "09ac33f3",
   "metadata": {},
   "source": [
    "Para los siguientes incisos agregaremos más acciones dentro del ciclo `for`anterior para observar algunos resultados para cada experimento."
   ]
  },
  {
   "cell_type": "markdown",
   "id": "ba1f3fd1",
   "metadata": {},
   "source": [
    "(c) Calcule la distancia al cuadrado $R^2$ para cada experimetno y después promedie sobre los $K$ experimentos para estimar $\\langle R^2(N) \\rangle$"
   ]
  },
  {
   "cell_type": "markdown",
   "id": "eb589e42",
   "metadata": {},
   "source": [
    "*Solución.*  \n",
    "Sea $R_i^2$ la distancia cuadrada para el $i$-ésimo experimento. Para cada experimento se han generado $N$ parejas $(\\Delta x_j, \\Delta y_i)$, que corresponden a cada paso de la caminata aleatoria. Así por teorema de Pitágoras, tenemos que la distancia cuadrada para un experimento es:\n",
    "$$R_i^2 = \\left( \\displaystyle\\sum_{j=1}^{N} \\Delta x_j \\right)^2 + \\left( \\displaystyle\\sum_{j=1}^N \\Delta y_j \\right)^2 \\tag{2}$$\n",
    "Luego, para estimar la distancia cuadrática media de los $K$ experimentos usaremos la siguiente expresión:\n",
    "$$ \\langle R^2(N)\\rangle = \\frac{1}{K}\\sum_{i=1}^K R_i^2 (N)$$\n",
    "Para hacer estos cálculos nos apoyaremos del ciclo `for` creado en el inciso anterior. Imprimiremos el valor de $R_i^2$ para cada experimento y el valor final de  $\\langle R^2(N) \\rangle$. Tomaremos $N=1000$ pasos."
   ]
  },
  {
   "cell_type": "code",
   "execution_count": 134,
   "id": "659126f6",
   "metadata": {},
   "outputs": [
    {
     "name": "stdout",
     "output_type": "stream",
     "text": [
      "Experimento:   1 ----- R_1   =  1140.5658\n",
      "Experimento:   2 ----- R_2   =  153.72208\n",
      "Experimento:   3 ----- R_3   =   158.7515\n",
      "Experimento:   4 ----- R_4   =  16.537993\n",
      "Experimento:   5 ----- R_5   =  6035.3091\n",
      "Experimento:   6 ----- R_6   =  864.12231\n",
      "Experimento:   7 ----- R_7   =  166.60278\n",
      "Experimento:   8 ----- R_8   =  2810.5746\n",
      "Experimento:   9 ----- R_9   =  3514.7457\n",
      "Experimento:  10 ----- R_10  =  1437.6651\n",
      "Experimento:  11 ----- R_11  =  377.58455\n",
      "Experimento:  12 ----- R_12  =  340.78247\n",
      "Experimento:  13 ----- R_13  =  1520.0807\n",
      "Experimento:  14 ----- R_14  =  1051.9202\n",
      "Experimento:  15 ----- R_15  =  496.89731\n",
      "Experimento:  16 ----- R_16  =  599.38956\n",
      "Experimento:  17 ----- R_17  =  2067.0515\n",
      "Experimento:  18 ----- R_18  =  1451.9279\n",
      "Experimento:  19 ----- R_19  =  1788.3491\n",
      "Experimento:  20 ----- R_20  =  834.83172\n",
      "Experimento:  21 ----- R_21  =  1040.9856\n",
      "Experimento:  22 ----- R_22  =  141.67411\n",
      "Experimento:  23 ----- R_23  =  586.25471\n",
      "Experimento:  24 ----- R_24  =  400.54274\n",
      "Experimento:  25 ----- R_25  =  349.93062\n",
      "Experimento:  26 ----- R_26  =   858.2109\n",
      "Experimento:  27 ----- R_27  =  725.50222\n",
      "Experimento:  28 ----- R_28  =   1686.658\n",
      "Experimento:  29 ----- R_29  =  108.12561\n",
      "Experimento:  30 ----- R_30  =  1683.8413\n",
      "Experimento:  31 ----- R_31  =  2537.2865\n",
      "Distancia cuadrática media de los 31 experiemntos ----- R^2 = 1191.8201463512917\n"
     ]
    }
   ],
   "source": [
    "N = 1000 #Número de pasos\n",
    "K = int(np.sqrt(N)) #Número de experimentos\n",
    "\n",
    "R_i = 0.0 #Distancia cuarática del i-ésimo experimento\n",
    "sumaR_i = 0.0 #Suma de todos distancias cadradas\n",
    "\n",
    "\n",
    "for i in range(K):\n",
    "    x, y =  pasos_normalizados(N) #Este crea los arreglos de un experimento\n",
    "    \n",
    "    #Se obtienen las sumatorias de los pasos en x, y. \n",
    "    suma_x = sum(x)\n",
    "    suma_y = sum(y)\n",
    "    \n",
    "    R_i = sum(x)**2 + sum(y)**2 #Se calcula la distancia cuadrada para el experimento\n",
    "    print(f'Experimento: {i+1:3} ----- R_{i+1:<3} = {R_i:10.8}')\n",
    "    \n",
    "    sumaR_i += R_i #Se suman todas las R_i's cuadradas.\n",
    "\n",
    "R = sumaR_i/K   \n",
    "print(f'Distancia cuadrática media de los {K} experiemntos ----- R^2 = {R}')"
   ]
  },
  {
   "cell_type": "markdown",
   "id": "ad7beafa",
   "metadata": {},
   "source": [
    "(d) Revise la validez de la hipótesis teórica:\n",
    "$$ \\frac{\\langle \\Delta x_i \\Delta x_j \\rangle_{i \\neq j}}{R^2} \\approx 0 \\tag{3}$$"
   ]
  },
  {
   "cell_type": "markdown",
   "id": "b8e1a8cd",
   "metadata": {},
   "source": [
    "*Solución.*  \n",
    "Para esta parte realizaremos un experimento con $N=1000$ pasos y verificaremos  la condición establecida para $\\Delta x_i$ y $\\Delta x_j$ donde escogeremos aleatoriamente a $i$ y $j$.  \n",
    "Teóricamente, en la deducción de la discancia cuadrática media, también debe cumplirse lo mismo para:\n",
    "$$\\frac{\\langle \\Delta y_i \\Delta y_j \\rangle_{i \\neq j}}{R^2} \\approx 0 \\tag{4}$$ \n",
    "No se pide calcular esto en el ejercicio, pero lo realizaremos para ver que efectivamente se cumple.  \n",
    "En el siguiente algoritmo primero generamos una caminata aleatoria de 1000 pasos. Después, escogemos aleatoriamente los subíndices $i$ y $j$ en el intervalo $[1,1000]$ para así evaluar las condiciones desadas. Esto lo haremos 10 veces para tener distintos resultados y así poder visualizar mejor lo que se quiere validar. Esa es la razón por la cual se usó un ciclo `for`. Además, para poder asegurar que $i\\neq j$ hemos agregado una sentencia `if` con esta condición."
   ]
  },
  {
   "cell_type": "code",
   "execution_count": 144,
   "id": "972ebc23",
   "metadata": {},
   "outputs": [
    {
     "name": "stdout",
     "output_type": "stream",
     "text": [
      "Tomando x_832 y  x_966 obtenemos: -2.52803e-10\n",
      "Tomando y_832 y  y_966 obtenemos: 6.03511e-11\n",
      "--------------------------------------------------------------------------------\n",
      "Tomando x_777 y  x_30  obtenemos: -3.49575e-10\n",
      "Tomando y_777 y  y_30  obtenemos: 4.12653e-11\n",
      "--------------------------------------------------------------------------------\n",
      "Tomando x_793 y  x_404 obtenemos: 8.74305e-11\n",
      "Tomando y_793 y  y_404 obtenemos: -3.04044e-10\n",
      "--------------------------------------------------------------------------------\n",
      "Tomando x_310 y  x_951 obtenemos: -1.64312e-10\n",
      "Tomando y_310 y  y_951 obtenemos: -2.54246e-10\n",
      "--------------------------------------------------------------------------------\n",
      "Tomando x_827 y  x_650 obtenemos: 1.14223e-10\n",
      "Tomando y_827 y  y_650 obtenemos: 1.51095e-10\n",
      "--------------------------------------------------------------------------------\n",
      "Tomando x_807 y  x_842 obtenemos: -2.76021e-11\n",
      "Tomando y_807 y  y_842 obtenemos: 1.25382e-10\n",
      "--------------------------------------------------------------------------------\n",
      "Tomando x_969 y  x_807 obtenemos: -3.46965e-10\n",
      "Tomando y_969 y  y_807 obtenemos: 6.36964e-11\n",
      "--------------------------------------------------------------------------------\n",
      "Tomando x_282 y  x_663 obtenemos: 3.99911e-11\n",
      "Tomando y_282 y  y_663 obtenemos: 3.41427e-10\n",
      "--------------------------------------------------------------------------------\n",
      "Tomando x_430 y  x_85  obtenemos: -7.56676e-11\n",
      "Tomando y_430 y  y_85  obtenemos: -2.86235e-10\n",
      "--------------------------------------------------------------------------------\n",
      "Tomando x_170 y  x_149 obtenemos: 1.56266e-11\n",
      "Tomando y_170 y  y_149 obtenemos: -1.61559e-10\n",
      "--------------------------------------------------------------------------------\n"
     ]
    }
   ],
   "source": [
    "N = 1000 #Número de pasos\n",
    "\n",
    "x, y =  pasos_normalizados(N) #Se crean los arreglos\n",
    "\n",
    "R = sum(x)**2 + sum(y)**2 #Se calcula la distancia cuadrada \n",
    "\n",
    "for _ in range(10): #Haremos 10 cálculos distintos para ver mejor el resultado\n",
    "    i = np.random.randint(0,len(x)-1) #escogemos a x_i aleatoriamente\n",
    "    j = np.random.randint(0,len(x)-1) #escogemos a x_j aleatoriamente\n",
    "    \n",
    "    if i != j:\n",
    "        valor = x[i]*x[j]/(R*N*(N-1)) #Calculamos la estimación deseada\n",
    "        print(f'Tomando x_{i+1:<3} y  x_{j+1:<3} obtenemos: {valor:10.6}')\n",
    "          \n",
    "        valor = y[i]*y[j]/(R*N*(N-1)) #Calculamos la estimación deseada\n",
    "        print(f'Tomando y_{i+1:<3} y  y_{j+1:<3} obtenemos: {valor:10.6}')\n",
    "        print(\"-\"*80) "
   ]
  },
  {
   "cell_type": "markdown",
   "id": "6da2169e",
   "metadata": {},
   "source": [
    "Podemos ver que todos los resultados obtenidos tenemos valores muy pequeños. Esto quiere decir que $\\langle \\Delta x_i, \\Delta x_j\\rangle_{i\\neq j}$, $\\langle \\Delta x_i, \\Delta y_j\\rangle_{i\\neq j}$ y $\\langle \\Delta y_i, \\Delta y_j\\rangle_{i\\neq j}$ son muy pequeños en comparación con el valor de $R^2$. Esto comprueba las condiciones de (3) y (4)."
   ]
  },
  {
   "cell_type": "markdown",
   "id": "1bd48139",
   "metadata": {},
   "source": [
    "(e) Grafique el valor cuadrático medio de la distancia $R_{rms}$ como función de $\\sqrt{N}$. Los valores de $N$ deben ser pequeños al principio (ahí no esperamos que se cumpla que $R_{rms} \\approx \\sqrt{N}$) pero al final, los valores de $N$ deben ser realmente grandes (considere al menos dos o tres cifras decimales en el promedio)."
   ]
  },
  {
   "cell_type": "markdown",
   "id": "a4d98921",
   "metadata": {},
   "source": [
    "*Solución:*  \n",
    "Para poder hacer el gráfico importamos la siguiente librería."
   ]
  },
  {
   "cell_type": "code",
   "execution_count": 83,
   "id": "30ea8cfc",
   "metadata": {},
   "outputs": [],
   "source": [
    "import matplotlib.pyplot as plt"
   ]
  },
  {
   "cell_type": "markdown",
   "id": "e2543704",
   "metadata": {},
   "source": [
    "Por definición:\n",
    "$$R_{rms} = \\sqrt{\\frac{1}{K}\\displaystyle\\sum_{i=1}^{K} R_i^2} \\tag{5}$$\n",
    "Donde $K$ es el número de experimentos realizados, recordemos que $K\\approx \\sqrt{N}$. En el siguiente algoritmo se utilizan dos ciclos `for` donde uno itera sobre el número de pasos $N$ y el otro sobre el Número de experiemntos $K$. Por ejemplo, para un $N$ fijo obtenemos un número $K$ de experimentos, para cada experimento se genera una distancia cuadrada $R_i^2$ y luego usando (5) obtenemos $R_{rms}$ para el $N$ fijo. Después aumentamos el número de pasos en 1 y repetimos lo anterior."
   ]
  },
  {
   "cell_type": "code",
   "execution_count": 146,
   "id": "3948527f",
   "metadata": {},
   "outputs": [
    {
     "data": {
      "image/png": "[encoded data removed]",
      "text/plain": [
       "<Figure size 432x288 with 1 Axes>"
      ]
     },
     "metadata": {
      "needs_background": "light"
     },
     "output_type": "display_data"
    }
   ],
   "source": [
    "eje_y = [] #Aquí agregaremos los valores para el eje y\n",
    "eje_x = [] #Aquí agregaremos los valores para el eje x\n",
    "\n",
    "for i in range(1,1000): #i es el número de pasos\n",
    "    K = int(np.sqrt(i)) #Número de experimentos\n",
    "    R_rms = 0.0\n",
    "    \n",
    "    for _ in range(0,K):\n",
    "        x, y =  pasos_normalizados(i) #Este crea los arreglos de un experimento\n",
    "        \n",
    "        R_i = sum(x)**2 + sum(y)**2 #Se calcula la distancia cuadrada para el experimento\n",
    "        R_rms += R_i #suma todos los cuadrados de R_i^2\n",
    "        \n",
    "    R_rms = np.sqrt(R_rms/K)\n",
    "    \n",
    "    eje_y.append(R_rms)\n",
    "    eje_x.append(np.sqrt(i))\n",
    "\n",
    "m = [x for x in range(1,40)]\n",
    "n = [x for x in range(1,40)]\n",
    "\n",
    "plt.plot(eje_x, eje_y, \"g*\")\n",
    "plt.plot(m,n, \"r\")\n",
    "plt.title('$R_{rms}$ vs $\\sqrt{N}$')\n",
    "plt.xlabel('$\\sqrt{N}$')\n",
    "plt.ylabel('$R_{rms}$')\n",
    "plt.show()"
   ]
  },
  {
   "cell_type": "markdown",
   "id": "b9e24a9e",
   "metadata": {},
   "source": [
    "El proceso anterior se realizó para $N\\in [1,1000]$, por lo que $\\sqrt{N}\\in[1,32]$. No es recomendable aumentar más el valor de $N$ ya que la computadora tarda demasiado en realizar los cálculos. A pesar de ello, con estas iteraciones hechas podemos apreciar que la dispersión de datos sigue una tendencia lineal. Si se toman valores mucho mayores se seguirá teniendo una tendencia lineal. Además, la recta color rojo representa la relación $R_{rms}=\\sqrt{N}$ (una recta de pendiente 1), con esto se confirma que para $N$'s muy grandes se aproximará mucho a la recta color rojo."
   ]
  }
 ],
 "metadata": {
  "kernelspec": {
   "display_name": "Python 3",
   "language": "python",
   "name": "python3"
  },
  "language_info": {
   "codemirror_mode": {
    "name": "ipython",
    "version": 3
   },
   "file_extension": ".py",
   "mimetype": "text/x-python",
   "name": "python",
   "nbconvert_exporter": "python",
   "pygments_lexer": "ipython3",
   "version": "3.8.8"
  }
 },
 "nbformat": 4,
 "nbformat_minor": 5
}
